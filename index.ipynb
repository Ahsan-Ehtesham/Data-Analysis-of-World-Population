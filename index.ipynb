{
  "cells": [
    {
      "cell_type": "markdown",
      "metadata": {
        "id": "view-in-github",
        "colab_type": "text"
      },
      "source": [
        "<a href=\"https://colab.research.google.com/github/Ahsan-Ehtesham/Data-Analysis-of-World-Population/blob/master/index.ipynb\" target=\"_parent\"><img src=\"https://colab.research.google.com/assets/colab-badge.svg\" alt=\"Open In Colab\"/></a>"
      ]
    },
    {
      "cell_type": "markdown",
      "metadata": {
        "id": "GxJILko4vY1n"
      },
      "source": [
        "🎯𝗔𝗻𝗮𝗹𝘆𝘇𝗶𝗻𝗴 𝘁𝗵𝗲 𝗪𝗼𝗿𝗹𝗱 𝗣𝗼𝗽𝘂𝗹𝗮𝘁𝗶𝗼𝗻\n",
        "In this project, you will use the dataset by CIA World Factbook and explore how the world population spreads across different countries.\n",
        "The data has information from only 261 different countries.\n",
        "\n",
        "Dataset contains 262 rows and 11 columns like id, code, area, population, birth_rate, death_rate, migration_rate, population_growth.\n",
        "\n",
        "𝗔𝗽𝗽𝗿𝗼𝗮𝗰𝗵/𝗣𝗿𝗼𝗷𝗲𝗰𝘁 𝗜𝗱𝗲𝗮\n",
        "You will learn how to use SQL to answer the following analytical questions:\n",
        "1. Which country has the highest population?\n",
        "2. Which country has the least number of people?\n",
        "3. Which country is witnessing the highest population growth?\n",
        "4. Which is the most densely populated country in the world?"
      ]
    },
    {
      "cell_type": "code",
      "execution_count": 6,
      "metadata": {
        "id": "3Kv80SlKvY16"
      },
      "outputs": [],
      "source": [
        "%%capture\n",
        "%load_ext sql\n",
        "%sql sqlite:///factbook.db \n",
        "\n",
        "# Here we connect the Jupyter notebook to the database file."
      ]
    },
    {
      "cell_type": "code",
      "execution_count": 7,
      "metadata": {
        "id": "K7PA4I18vY19",
        "outputId": "add52de6-f1a7-4200-96bd-e96c10c71efb",
        "colab": {
          "base_uri": "https://localhost:8080/",
          "height": 152
        }
      },
      "outputs": [
        {
          "output_type": "stream",
          "name": "stdout",
          "text": [
            " * sqlite:///factbook.db\n",
            "Done.\n"
          ]
        },
        {
          "output_type": "execute_result",
          "data": {
            "text/plain": [
              "[('table', 'sqlite_sequence', 'sqlite_sequence', 3, 'CREATE TABLE sqlite_sequence(name,seq)'),\n",
              " ('table', 'facts', 'facts', 47, 'CREATE TABLE \"facts\" (\"id\" INTEGER PRIMARY KEY AUTOINCREMENT NOT NULL, \"code\" varchar(255) NOT NULL, \"name\" varchar(255) NOT NULL, \"area\" integer, \"a ... (4 characters truncated) ... land\" integer, \"area_water\" integer, \"population\" integer, \"population_growth\" float, \"birth_rate\" float, \"death_rate\" float, \"migration_rate\" float)')]"
            ],
            "text/html": [
              "<table>\n",
              "    <thead>\n",
              "        <tr>\n",
              "            <th>type</th>\n",
              "            <th>name</th>\n",
              "            <th>tbl_name</th>\n",
              "            <th>rootpage</th>\n",
              "            <th>sql</th>\n",
              "        </tr>\n",
              "    </thead>\n",
              "    <tbody>\n",
              "        <tr>\n",
              "            <td>table</td>\n",
              "            <td>sqlite_sequence</td>\n",
              "            <td>sqlite_sequence</td>\n",
              "            <td>3</td>\n",
              "            <td>CREATE TABLE sqlite_sequence(name,seq)</td>\n",
              "        </tr>\n",
              "        <tr>\n",
              "            <td>table</td>\n",
              "            <td>facts</td>\n",
              "            <td>facts</td>\n",
              "            <td>47</td>\n",
              "            <td>CREATE TABLE &quot;facts&quot; (&quot;id&quot; INTEGER PRIMARY KEY AUTOINCREMENT NOT NULL, &quot;code&quot; varchar(255) NOT NULL, &quot;name&quot; varchar(255) NOT NULL, &quot;area&quot; integer, &quot;area_land&quot; integer, &quot;area_water&quot; integer, &quot;population&quot; integer, &quot;population_growth&quot; float, &quot;birth_rate&quot; float, &quot;death_rate&quot; float, &quot;migration_rate&quot; float)</td>\n",
              "        </tr>\n",
              "    </tbody>\n",
              "</table>"
            ]
          },
          "metadata": {},
          "execution_count": 7
        }
      ],
      "source": [
        "%%sql\n",
        "\n",
        "SELECT * FROM sqlite_master WHERE type='table'; "
      ]
    },
    {
      "cell_type": "code",
      "execution_count": 13,
      "metadata": {
        "id": "lvWeGg0fvY2D",
        "outputId": "311a7fe8-e2bf-4581-8e20-a8ceb734f0a0",
        "colab": {
          "base_uri": "https://localhost:8080/",
          "height": 285
        }
      },
      "outputs": [
        {
          "output_type": "stream",
          "name": "stdout",
          "text": [
            " * sqlite:///factbook.db\n",
            "Done.\n"
          ]
        },
        {
          "output_type": "execute_result",
          "data": {
            "text/plain": [
              "[(1, 'af', 'Afghanistan', 652230, 652230, 0, 32564342, 2.32, 38.57, 13.89, 1.51),\n",
              " (2, 'al', 'Albania', 28748, 27398, 1350, 3029278, 0.3, 12.92, 6.58, 3.3),\n",
              " (3, 'ag', 'Algeria', 2381741, 2381741, 0, 39542166, 1.84, 23.67, 4.31, 0.92),\n",
              " (4, 'an', 'Andorra', 468, 468, 0, 85580, 0.12, 8.13, 6.96, 0.0),\n",
              " (5, 'ao', 'Angola', 1246700, 1246700, 0, 19625353, 2.78, 38.78, 11.49, 0.46),\n",
              " (6, 'ac', 'Antigua and Barbuda', 442, 442, 0, 92436, 1.24, 15.85, 5.69, 2.21),\n",
              " (7, 'ar', 'Argentina', 2780400, 2736690, 43710, 43431886, 0.93, 16.64, 7.33, 0.0),\n",
              " (8, 'am', 'Armenia', 29743, 28203, 1540, 3056382, 0.15, 13.61, 9.34, 5.8),\n",
              " (9, 'as', 'Australia', 7741220, 7682300, 58920, 22751014, 1.07, 12.15, 7.14, 5.65),\n",
              " (10, 'au', 'Austria', 83871, 82445, 1426, 8665550, 0.55, 9.41, 9.42, 5.56)]"
            ],
            "text/html": [
              "<table>\n",
              "    <thead>\n",
              "        <tr>\n",
              "            <th>id</th>\n",
              "            <th>code</th>\n",
              "            <th>name</th>\n",
              "            <th>area</th>\n",
              "            <th>area_land</th>\n",
              "            <th>area_water</th>\n",
              "            <th>population</th>\n",
              "            <th>population_growth</th>\n",
              "            <th>birth_rate</th>\n",
              "            <th>death_rate</th>\n",
              "            <th>migration_rate</th>\n",
              "        </tr>\n",
              "    </thead>\n",
              "    <tbody>\n",
              "        <tr>\n",
              "            <td>1</td>\n",
              "            <td>af</td>\n",
              "            <td>Afghanistan</td>\n",
              "            <td>652230</td>\n",
              "            <td>652230</td>\n",
              "            <td>0</td>\n",
              "            <td>32564342</td>\n",
              "            <td>2.32</td>\n",
              "            <td>38.57</td>\n",
              "            <td>13.89</td>\n",
              "            <td>1.51</td>\n",
              "        </tr>\n",
              "        <tr>\n",
              "            <td>2</td>\n",
              "            <td>al</td>\n",
              "            <td>Albania</td>\n",
              "            <td>28748</td>\n",
              "            <td>27398</td>\n",
              "            <td>1350</td>\n",
              "            <td>3029278</td>\n",
              "            <td>0.3</td>\n",
              "            <td>12.92</td>\n",
              "            <td>6.58</td>\n",
              "            <td>3.3</td>\n",
              "        </tr>\n",
              "        <tr>\n",
              "            <td>3</td>\n",
              "            <td>ag</td>\n",
              "            <td>Algeria</td>\n",
              "            <td>2381741</td>\n",
              "            <td>2381741</td>\n",
              "            <td>0</td>\n",
              "            <td>39542166</td>\n",
              "            <td>1.84</td>\n",
              "            <td>23.67</td>\n",
              "            <td>4.31</td>\n",
              "            <td>0.92</td>\n",
              "        </tr>\n",
              "        <tr>\n",
              "            <td>4</td>\n",
              "            <td>an</td>\n",
              "            <td>Andorra</td>\n",
              "            <td>468</td>\n",
              "            <td>468</td>\n",
              "            <td>0</td>\n",
              "            <td>85580</td>\n",
              "            <td>0.12</td>\n",
              "            <td>8.13</td>\n",
              "            <td>6.96</td>\n",
              "            <td>0.0</td>\n",
              "        </tr>\n",
              "        <tr>\n",
              "            <td>5</td>\n",
              "            <td>ao</td>\n",
              "            <td>Angola</td>\n",
              "            <td>1246700</td>\n",
              "            <td>1246700</td>\n",
              "            <td>0</td>\n",
              "            <td>19625353</td>\n",
              "            <td>2.78</td>\n",
              "            <td>38.78</td>\n",
              "            <td>11.49</td>\n",
              "            <td>0.46</td>\n",
              "        </tr>\n",
              "        <tr>\n",
              "            <td>6</td>\n",
              "            <td>ac</td>\n",
              "            <td>Antigua and Barbuda</td>\n",
              "            <td>442</td>\n",
              "            <td>442</td>\n",
              "            <td>0</td>\n",
              "            <td>92436</td>\n",
              "            <td>1.24</td>\n",
              "            <td>15.85</td>\n",
              "            <td>5.69</td>\n",
              "            <td>2.21</td>\n",
              "        </tr>\n",
              "        <tr>\n",
              "            <td>7</td>\n",
              "            <td>ar</td>\n",
              "            <td>Argentina</td>\n",
              "            <td>2780400</td>\n",
              "            <td>2736690</td>\n",
              "            <td>43710</td>\n",
              "            <td>43431886</td>\n",
              "            <td>0.93</td>\n",
              "            <td>16.64</td>\n",
              "            <td>7.33</td>\n",
              "            <td>0.0</td>\n",
              "        </tr>\n",
              "        <tr>\n",
              "            <td>8</td>\n",
              "            <td>am</td>\n",
              "            <td>Armenia</td>\n",
              "            <td>29743</td>\n",
              "            <td>28203</td>\n",
              "            <td>1540</td>\n",
              "            <td>3056382</td>\n",
              "            <td>0.15</td>\n",
              "            <td>13.61</td>\n",
              "            <td>9.34</td>\n",
              "            <td>5.8</td>\n",
              "        </tr>\n",
              "        <tr>\n",
              "            <td>9</td>\n",
              "            <td>as</td>\n",
              "            <td>Australia</td>\n",
              "            <td>7741220</td>\n",
              "            <td>7682300</td>\n",
              "            <td>58920</td>\n",
              "            <td>22751014</td>\n",
              "            <td>1.07</td>\n",
              "            <td>12.15</td>\n",
              "            <td>7.14</td>\n",
              "            <td>5.65</td>\n",
              "        </tr>\n",
              "        <tr>\n",
              "            <td>10</td>\n",
              "            <td>au</td>\n",
              "            <td>Austria</td>\n",
              "            <td>83871</td>\n",
              "            <td>82445</td>\n",
              "            <td>1426</td>\n",
              "            <td>8665550</td>\n",
              "            <td>0.55</td>\n",
              "            <td>9.41</td>\n",
              "            <td>9.42</td>\n",
              "            <td>5.56</td>\n",
              "        </tr>\n",
              "    </tbody>\n",
              "</table>"
            ]
          },
          "metadata": {},
          "execution_count": 13
        }
      ],
      "source": [
        "%%sql\n",
        "SELECT * FROM facts limit 10\n",
        "--this line will make it possible to run a SQL query with Jupyter"
      ]
    },
    {
      "cell_type": "markdown",
      "source": [
        "## Which country has the highest and least population?"
      ],
      "metadata": {
        "id": "4gyTXGCU-Yzr"
      }
    },
    {
      "cell_type": "code",
      "source": [
        "%%sql\n",
        "SELECT name,max(population) FROM facts WHERE name<>'World';"
      ],
      "metadata": {
        "id": "hzBM2vUF-BxW",
        "outputId": "52f9e770-cc9d-4d87-e6dc-65c36c479ca9",
        "colab": {
          "base_uri": "https://localhost:8080/",
          "height": 97
        }
      },
      "execution_count": 27,
      "outputs": [
        {
          "output_type": "stream",
          "name": "stdout",
          "text": [
            " * sqlite:///factbook.db\n",
            "Done.\n"
          ]
        },
        {
          "output_type": "execute_result",
          "data": {
            "text/plain": [
              "[('China', 1367485388)]"
            ],
            "text/html": [
              "<table>\n",
              "    <thead>\n",
              "        <tr>\n",
              "            <th>name</th>\n",
              "            <th>max(population)</th>\n",
              "        </tr>\n",
              "    </thead>\n",
              "    <tbody>\n",
              "        <tr>\n",
              "            <td>China</td>\n",
              "            <td>1367485388</td>\n",
              "        </tr>\n",
              "    </tbody>\n",
              "</table>"
            ]
          },
          "metadata": {},
          "execution_count": 27
        }
      ]
    },
    {
      "cell_type": "code",
      "source": [
        "%%sql\n",
        "SELECT name,min(population) FROM facts WHERE name<>'World';"
      ],
      "metadata": {
        "id": "arQQ2gp0-f2s",
        "outputId": "d5b15bdc-e399-444c-83ae-8fd85a384b38",
        "colab": {
          "base_uri": "https://localhost:8080/",
          "height": 97
        }
      },
      "execution_count": 28,
      "outputs": [
        {
          "output_type": "stream",
          "name": "stdout",
          "text": [
            " * sqlite:///factbook.db\n",
            "Done.\n"
          ]
        },
        {
          "output_type": "execute_result",
          "data": {
            "text/plain": [
              "[('Antarctica', 0)]"
            ],
            "text/html": [
              "<table>\n",
              "    <thead>\n",
              "        <tr>\n",
              "            <th>name</th>\n",
              "            <th>min(population)</th>\n",
              "        </tr>\n",
              "    </thead>\n",
              "    <tbody>\n",
              "        <tr>\n",
              "            <td>Antarctica</td>\n",
              "            <td>0</td>\n",
              "        </tr>\n",
              "    </tbody>\n",
              "</table>"
            ]
          },
          "metadata": {},
          "execution_count": 28
        }
      ]
    },
    {
      "cell_type": "markdown",
      "source": [
        "## Top 5 countries witnessing the highest population growth"
      ],
      "metadata": {
        "id": "2Jh6YycoR8oE"
      }
    },
    {
      "cell_type": "code",
      "source": [
        "%%sql\n",
        "SELECT name,population_growth FROM facts WHERE name<>'World' ORDER BY population_growth DESC LIMIT 5;"
      ],
      "metadata": {
        "id": "7i0gk8gmR7rm",
        "outputId": "2fad7850-0833-42e7-e09e-28ba074dbb1f",
        "colab": {
          "base_uri": "https://localhost:8080/",
          "height": 181
        }
      },
      "execution_count": 38,
      "outputs": [
        {
          "output_type": "stream",
          "name": "stdout",
          "text": [
            " * sqlite:///factbook.db\n",
            "Done.\n"
          ]
        },
        {
          "output_type": "execute_result",
          "data": {
            "text/plain": [
              "[('South Sudan', 4.02),\n",
              " ('Malawi', 3.32),\n",
              " ('Burundi', 3.28),\n",
              " ('Niger', 3.25),\n",
              " ('Uganda', 3.24)]"
            ],
            "text/html": [
              "<table>\n",
              "    <thead>\n",
              "        <tr>\n",
              "            <th>name</th>\n",
              "            <th>population_growth</th>\n",
              "        </tr>\n",
              "    </thead>\n",
              "    <tbody>\n",
              "        <tr>\n",
              "            <td>South Sudan</td>\n",
              "            <td>4.02</td>\n",
              "        </tr>\n",
              "        <tr>\n",
              "            <td>Malawi</td>\n",
              "            <td>3.32</td>\n",
              "        </tr>\n",
              "        <tr>\n",
              "            <td>Burundi</td>\n",
              "            <td>3.28</td>\n",
              "        </tr>\n",
              "        <tr>\n",
              "            <td>Niger</td>\n",
              "            <td>3.25</td>\n",
              "        </tr>\n",
              "        <tr>\n",
              "            <td>Uganda</td>\n",
              "            <td>3.24</td>\n",
              "        </tr>\n",
              "    </tbody>\n",
              "</table>"
            ]
          },
          "metadata": {},
          "execution_count": 38
        }
      ]
    }
  ],
  "metadata": {
    "kernelspec": {
      "display_name": "Python 3.9.1 64-bit",
      "language": "python",
      "name": "python3"
    },
    "language_info": {
      "codemirror_mode": {
        "name": "ipython",
        "version": 3
      },
      "file_extension": ".py",
      "mimetype": "text/x-python",
      "name": "python",
      "nbconvert_exporter": "python",
      "pygments_lexer": "ipython3",
      "version": "3.9.1"
    },
    "orig_nbformat": 4,
    "vscode": {
      "interpreter": {
        "hash": "6c6058c3fe5da8eaa11e0e0c532b3a12804a136cf771bb0b6eba1a0f30a9cf3a"
      }
    },
    "colab": {
      "provenance": [],
      "include_colab_link": true
    }
  },
  "nbformat": 4,
  "nbformat_minor": 0
}